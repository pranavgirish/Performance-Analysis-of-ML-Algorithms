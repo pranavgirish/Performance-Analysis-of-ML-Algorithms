{
 "cells": [
  {
   "cell_type": "code",
   "execution_count": 76,
   "metadata": {
    "collapsed": false
   },
   "outputs": [],
   "source": [
    "import numpy as np\n",
    "import pandas as pd\n",
    "from sklearn import svm, linear_model\n",
    "from sklearn.model_selection import StratifiedKFold\n",
    "from sklearn.metrics import accuracy_score, f1_score\n",
    "from sklearn import preprocessing\n",
    "import os\n",
    "import glob\n",
    "from itertools import product"
   ]
  },
  {
   "cell_type": "code",
   "execution_count": 77,
   "metadata": {
    "collapsed": false
   },
   "outputs": [
    {
     "name": "stdout",
     "output_type": "stream",
     "text": [
      "/home/pranav/Project/csv_files/*.csv\n"
     ]
    },
    {
     "data": {
      "text/plain": [
       "['/home/pranav/Project/csv_files/electricity_normalised.csv',\n",
       " '/home/pranav/Project/csv_files/pc4.csv',\n",
       " '/home/pranav/Project/csv_files/credit.csv',\n",
       " '/home/pranav/Project/csv_files/MagicTelescope.csv',\n",
       " '/home/pranav/Project/csv_files/irish.csv',\n",
       " '/home/pranav/Project/csv_files/pc1.csv',\n",
       " '/home/pranav/Project/csv_files/tic-tac-toe.csv',\n",
       " '/home/pranav/Project/csv_files/ionosphere.csv',\n",
       " '/home/pranav/Project/csv_files/diabetes.csv']"
      ]
     },
     "execution_count": 77,
     "metadata": {},
     "output_type": "execute_result"
    }
   ],
   "source": [
    "files = os.path.join(os.getcwd(),\"csv_files\", \"*.csv\")\n",
    "print(files)\n",
    "datasets = glob.glob(files)\n",
    "datasets"
   ]
  },
  {
   "cell_type": "code",
   "execution_count": 78,
   "metadata": {
    "collapsed": false
   },
   "outputs": [],
   "source": [
    "models = [linear_model.LogisticRegression(), linear_model.Perceptron()]"
   ]
  },
  {
   "cell_type": "code",
   "execution_count": 79,
   "metadata": {
    "collapsed": false
   },
   "outputs": [],
   "source": [
    "def read_csv(file_path):\n",
    "    X = []\n",
    "    dataframe = pd.read_csv(file_path)\n",
    "    category = np.logical_not(\n",
    "        np.logical_or(np.array(dataframe.dtypes == np.float64), np.array(dataframe.dtypes == np.int64)))\n",
    "    for cat_cols in dataframe.select_dtypes(['object']).columns:\n",
    "        dataframe[cat_cols] = dataframe[cat_cols].astype('category')\n",
    "        dataframe[cat_cols] = pd.Categorical.from_array(dataframe[cat_cols]).codes\n",
    "    for cat_cols in dataframe.select_dtypes(['bool']).columns:\n",
    "        dataframe[cat_cols] = dataframe[cat_cols].astype('category')\n",
    "        dataframe[cat_cols] = pd.Categorical.from_array(dataframe[cat_cols]).codes  # Have to see an alternative\n",
    "\n",
    "    classes = np.array(dataframe[dataframe.columns[-1]])\n",
    "    a_enc = pd.factorize(classes)\n",
    "    Y = np.array(a_enc[0])\n",
    "    for row in dataframe.as_matrix():\n",
    "        row = np.array(row)\n",
    "        X.append(np.array(row[0:len(row) - 1]).astype(float))\n",
    "    X = np.array(X)\n",
    "    return X, Y"
   ]
  },
  {
   "cell_type": "code",
   "execution_count": 80,
   "metadata": {
    "collapsed": true
   },
   "outputs": [],
   "source": [
    "def compute(model, dataset, folds =10 , seed=42):\n",
    "    X, y = read_csv(dataset)\n",
    "    kf = StratifiedKFold(n_splits=folds, shuffle=True, random_state=seed)\n",
    "    accs = np.zeros(folds)   \n",
    "    f1_scores = np.zeros(folds)\n",
    "    i = 0 \n",
    "    for index_train, index_test in kf.split(X,y):\n",
    "        model.fit(X[index_train], y[index_train])\n",
    "\n",
    "        y_true = y[index_test]\n",
    "        y_pred = model.predict(X[index_test])\n",
    "        accs[i] = accuracy_score(y_true, y_pred)\n",
    "        f1_scores[i] = f1_score(y_true, y_pred, average='micro')\n",
    "        i+=1\n",
    "    return accs, f1_scores "
   ]
  },
  {
   "cell_type": "code",
   "execution_count": 81,
   "metadata": {
    "collapsed": false
   },
   "outputs": [
    {
     "name": "stdout",
     "output_type": "stream",
     "text": [
      "/home/pranav/Project/csv_files/electricity_normalised.csv\n"
     ]
    },
    {
     "name": "stderr",
     "output_type": "stream",
     "text": [
      "/home/pranav/anaconda3/lib/python3.6/site-packages/ipykernel/__main__.py:8: FutureWarning: Categorical.from_array is deprecated, use Categorical instead\n"
     ]
    },
    {
     "name": "stdout",
     "output_type": "stream",
     "text": [
      "/home/pranav/Project/csv_files/electricity_normalised.csv\n",
      "/home/pranav/Project/csv_files/pc4.csv\n"
     ]
    },
    {
     "name": "stderr",
     "output_type": "stream",
     "text": [
      "/home/pranav/anaconda3/lib/python3.6/site-packages/ipykernel/__main__.py:11: FutureWarning: Categorical.from_array is deprecated, use Categorical instead\n"
     ]
    },
    {
     "name": "stdout",
     "output_type": "stream",
     "text": [
      "/home/pranav/Project/csv_files/pc4.csv\n",
      "/home/pranav/Project/csv_files/credit.csv\n",
      "/home/pranav/Project/csv_files/credit.csv\n",
      "/home/pranav/Project/csv_files/MagicTelescope.csv\n",
      "/home/pranav/Project/csv_files/MagicTelescope.csv\n",
      "/home/pranav/Project/csv_files/irish.csv\n",
      "/home/pranav/Project/csv_files/irish.csv\n",
      "/home/pranav/Project/csv_files/pc1.csv\n",
      "/home/pranav/Project/csv_files/pc1.csv\n",
      "/home/pranav/Project/csv_files/tic-tac-toe.csv\n",
      "/home/pranav/Project/csv_files/tic-tac-toe.csv\n",
      "/home/pranav/Project/csv_files/ionosphere.csv\n",
      "/home/pranav/Project/csv_files/ionosphere.csv\n",
      "/home/pranav/Project/csv_files/diabetes.csv\n",
      "/home/pranav/Project/csv_files/diabetes.csv\n"
     ]
    }
   ],
   "source": [
    "shape = (len(datasets), len(models), 10)\n",
    "accuracies = np.zeros(shape)\n",
    "f1_scores = np.zeros(shape)\n",
    "for i, d in enumerate(datasets):\n",
    "    for j, m in enumerate(models):\n",
    "        print(d)\n",
    "        accuracies[i,j] = compute(m, d)[0]\n",
    "        f1_scores[i,j] = compute(m, d)[1]"
   ]
  },
  {
   "cell_type": "code",
   "execution_count": 82,
   "metadata": {
    "collapsed": false
   },
   "outputs": [
    {
     "data": {
      "text/plain": [
       "array([[[ 0.75595763,  0.75198588,  0.75617829,  0.74382171,  0.75419241,\n",
       "          0.72964026,  0.75369676,  0.7593819 ,  0.75562914,  0.76666667],\n",
       "        [ 0.6760812 ,  0.71888791,  0.69218888,  0.64033539,  0.75022065,\n",
       "          0.72875745,  0.6623262 ,  0.73620309,  0.47527594,  0.72251656]],\n",
       "\n",
       "       [[ 0.89041096,  0.9109589 ,  0.93150685,  0.89726027,  0.93150685,\n",
       "          0.89726027,  0.91780822,  0.91780822,  0.89655172,  0.91034483],\n",
       "        [ 0.20547945,  0.87671233,  0.55479452,  0.87671233,  0.87671233,\n",
       "          0.87671233,  0.87671233,  0.87671233,  0.22758621,  0.88275862]],\n",
       "\n",
       "       [[ 0.73      ,  0.7       ,  0.68      ,  0.71      ,  0.74      ,\n",
       "          0.71      ,  0.75      ,  0.74      ,  0.73      ,  0.72      ],\n",
       "        [ 0.68      ,  0.7       ,  0.7       ,  0.7       ,  0.7       ,\n",
       "          0.7       ,  0.7       ,  0.31      ,  0.3       ,  0.7       ]],\n",
       "\n",
       "       [[ 0.97635313,  0.97214924,  0.9721346 ,  0.97528917,  0.97108307,\n",
       "          0.9679285 ,  0.98002103,  0.97266036,  0.97527617,  0.96948974],\n",
       "        [ 0.69732002,  0.6416185 ,  0.77444795,  0.79758149,  0.65930599,\n",
       "          0.80651945,  0.829653  ,  0.77181914,  0.65281431,  0.81641241]],\n",
       "\n",
       "       [[ 0.74509804,  0.80392157,  0.7254902 ,  0.74509804,  0.78431373,\n",
       "          0.78      ,  0.74      ,  0.75510204,  0.70833333,  0.72916667],\n",
       "        [ 0.62745098,  0.64705882,  0.64705882,  0.39215686,  0.68627451,\n",
       "          0.64      ,  0.64      ,  0.28571429,  0.20833333,  0.5       ]],\n",
       "\n",
       "       [[ 0.92857143,  0.91964286,  0.91891892,  0.93693694,  0.91891892,\n",
       "          0.94594595,  0.92792793,  0.94545455,  0.92727273,  0.92727273],\n",
       "        [ 0.92857143,  0.92857143,  0.92792793,  0.92792793,  0.92792793,\n",
       "          0.92792793,  0.92792793,  0.93636364,  0.93636364,  0.93636364]],\n",
       "\n",
       "       [[ 0.70103093,  0.73195876,  0.60416667,  0.72916667,  0.66666667,\n",
       "          0.67708333,  0.73684211,  0.68421053,  0.67368421,  0.71578947],\n",
       "        [ 0.64948454,  0.64948454,  0.4375    ,  0.36458333,  0.45833333,\n",
       "          0.35416667,  0.66315789,  0.65263158,  0.65263158,  0.65263158]],\n",
       "\n",
       "       [[ 0.91666667,  0.86111111,  0.88888889,  0.83333333,  0.91666667,\n",
       "          0.85714286,  0.88235294,  0.88235294,  0.82352941,  0.97058824],\n",
       "        [ 0.86111111,  0.88888889,  0.86111111,  0.77777778,  0.88888889,\n",
       "          0.8       ,  0.76470588,  0.70588235,  0.85294118,  0.97058824]],\n",
       "\n",
       "       [[ 0.76623377,  0.80519481,  0.77922078,  0.71428571,  0.85714286,\n",
       "          0.77922078,  0.76623377,  0.75324675,  0.73684211,  0.77631579],\n",
       "        [ 0.55844156,  0.37662338,  0.61038961,  0.51948052,  0.37662338,\n",
       "          0.7012987 ,  0.71428571,  0.62337662,  0.39473684,  0.72368421]]])"
      ]
     },
     "execution_count": 82,
     "metadata": {},
     "output_type": "execute_result"
    }
   ],
   "source": [
    "accuracies"
   ]
  },
  {
   "cell_type": "code",
   "execution_count": 83,
   "metadata": {
    "collapsed": false
   },
   "outputs": [
    {
     "data": {
      "text/plain": [
       "array([[[ 0.75595763,  0.75198588,  0.75617829,  0.74382171,  0.75419241,\n",
       "          0.72964026,  0.75369676,  0.7593819 ,  0.75562914,  0.76666667],\n",
       "        [ 0.6760812 ,  0.71888791,  0.69218888,  0.64033539,  0.75022065,\n",
       "          0.72875745,  0.6623262 ,  0.73620309,  0.47527594,  0.72251656]],\n",
       "\n",
       "       [[ 0.89041096,  0.9109589 ,  0.93150685,  0.89726027,  0.93150685,\n",
       "          0.89726027,  0.91780822,  0.91780822,  0.89655172,  0.91034483],\n",
       "        [ 0.20547945,  0.87671233,  0.55479452,  0.87671233,  0.87671233,\n",
       "          0.87671233,  0.87671233,  0.87671233,  0.22758621,  0.88275862]],\n",
       "\n",
       "       [[ 0.73      ,  0.7       ,  0.68      ,  0.71      ,  0.74      ,\n",
       "          0.71      ,  0.75      ,  0.74      ,  0.73      ,  0.72      ],\n",
       "        [ 0.68      ,  0.7       ,  0.7       ,  0.7       ,  0.7       ,\n",
       "          0.7       ,  0.7       ,  0.31      ,  0.3       ,  0.7       ]],\n",
       "\n",
       "       [[ 0.97635313,  0.97214924,  0.9721346 ,  0.97528917,  0.97108307,\n",
       "          0.9679285 ,  0.98002103,  0.97266036,  0.97527617,  0.96948974],\n",
       "        [ 0.69732002,  0.6416185 ,  0.77444795,  0.79758149,  0.65930599,\n",
       "          0.80651945,  0.829653  ,  0.77181914,  0.65281431,  0.81641241]],\n",
       "\n",
       "       [[ 0.74509804,  0.80392157,  0.7254902 ,  0.74509804,  0.78431373,\n",
       "          0.78      ,  0.74      ,  0.75510204,  0.70833333,  0.72916667],\n",
       "        [ 0.62745098,  0.64705882,  0.64705882,  0.39215686,  0.68627451,\n",
       "          0.64      ,  0.64      ,  0.28571429,  0.20833333,  0.5       ]],\n",
       "\n",
       "       [[ 0.92857143,  0.91964286,  0.91891892,  0.93693694,  0.91891892,\n",
       "          0.94594595,  0.92792793,  0.94545455,  0.92727273,  0.92727273],\n",
       "        [ 0.92857143,  0.92857143,  0.92792793,  0.92792793,  0.92792793,\n",
       "          0.92792793,  0.92792793,  0.93636364,  0.93636364,  0.93636364]],\n",
       "\n",
       "       [[ 0.70103093,  0.73195876,  0.60416667,  0.72916667,  0.66666667,\n",
       "          0.67708333,  0.73684211,  0.68421053,  0.67368421,  0.71578947],\n",
       "        [ 0.64948454,  0.64948454,  0.4375    ,  0.36458333,  0.45833333,\n",
       "          0.35416667,  0.66315789,  0.65263158,  0.65263158,  0.65263158]],\n",
       "\n",
       "       [[ 0.91666667,  0.86111111,  0.88888889,  0.83333333,  0.91666667,\n",
       "          0.85714286,  0.88235294,  0.88235294,  0.82352941,  0.97058824],\n",
       "        [ 0.86111111,  0.88888889,  0.86111111,  0.77777778,  0.88888889,\n",
       "          0.8       ,  0.76470588,  0.70588235,  0.85294118,  0.97058824]],\n",
       "\n",
       "       [[ 0.76623377,  0.80519481,  0.77922078,  0.71428571,  0.85714286,\n",
       "          0.77922078,  0.76623377,  0.75324675,  0.73684211,  0.77631579],\n",
       "        [ 0.55844156,  0.37662338,  0.61038961,  0.51948052,  0.37662338,\n",
       "          0.7012987 ,  0.71428571,  0.62337662,  0.39473684,  0.72368421]]])"
      ]
     },
     "execution_count": 83,
     "metadata": {},
     "output_type": "execute_result"
    }
   ],
   "source": [
    "f1_scores"
   ]
  },
  {
   "cell_type": "code",
   "execution_count": null,
   "metadata": {
    "collapsed": true
   },
   "outputs": [],
   "source": []
  }
 ],
 "metadata": {
  "kernelspec": {
   "display_name": "Python 3",
   "language": "python",
   "name": "python3"
  }
 },
 "nbformat": 4,
 "nbformat_minor": 2
}
