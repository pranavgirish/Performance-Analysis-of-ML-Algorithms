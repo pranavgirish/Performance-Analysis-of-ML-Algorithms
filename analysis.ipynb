{
 "cells": [
  {
   "cell_type": "code",
   "execution_count": 16,
   "metadata": {
    "collapsed": false
   },
   "outputs": [],
   "source": [
    "import numpy as np\n",
    "import pandas as pd\n",
    "from pandas import DataFrame\n",
    "from sklearn import svm, linear_model, neural_network, naive_bayes, neighbors, tree, ensemble, linear_model\n",
    "from sklearn.model_selection import StratifiedKFold\n",
    "from sklearn.metrics import accuracy_score, f1_score\n",
    "from sklearn import preprocessing\n",
    "import time\n",
    "import os\n",
    "import glob\n",
    "from itertools import product"
   ]
  },
  {
   "cell_type": "code",
   "execution_count": 17,
   "metadata": {
    "collapsed": false
   },
   "outputs": [
    {
     "name": "stdout",
     "output_type": "stream",
     "text": [
      "/home/pranav/Project/csv_files/*.csv\n"
     ]
    },
    {
     "data": {
      "text/plain": [
       "['/home/pranav/Project/csv_files/electricity_normalised.csv',\n",
       " '/home/pranav/Project/csv_files/pc4.csv',\n",
       " '/home/pranav/Project/csv_files/credit.csv',\n",
       " '/home/pranav/Project/csv_files/MagicTelescope.csv',\n",
       " '/home/pranav/Project/csv_files/irish.csv',\n",
       " '/home/pranav/Project/csv_files/pc1.csv',\n",
       " '/home/pranav/Project/csv_files/tic-tac-toe.csv',\n",
       " '/home/pranav/Project/csv_files/ionosphere.csv',\n",
       " '/home/pranav/Project/csv_files/diabetes.csv']"
      ]
     },
     "execution_count": 17,
     "metadata": {},
     "output_type": "execute_result"
    }
   ],
   "source": [
    "files = os.path.join(os.getcwd(),\"csv_files\", \"*.csv\")\n",
    "print(files)\n",
    "datasets = glob.glob(files)\n",
    "datasets"
   ]
  },
  {
   "cell_type": "code",
   "execution_count": 18,
   "metadata": {
    "collapsed": false
   },
   "outputs": [],
   "source": [
    "models = [linear_model.LogisticRegression(), neural_network.MLPClassifier(), naive_bayes.GaussianNB(), neighbors.KNeighborsClassifier(algorithm = 'brute'), tree.DecisionTreeClassifier(min_impurity_split = 0.25), ensemble.RandomForestClassifier()]"
   ]
  },
  {
   "cell_type": "code",
   "execution_count": 19,
   "metadata": {
    "collapsed": false
   },
   "outputs": [],
   "source": [
    "def read_csv(file_path):\n",
    "    X = []\n",
    "    dataframe = pd.read_csv(file_path)\n",
    "    category = np.logical_not(\n",
    "        np.logical_or(np.array(dataframe.dtypes == np.float64), np.array(dataframe.dtypes == np.int64)))\n",
    "    for cat_cols in dataframe.select_dtypes(['object']).columns:\n",
    "        dataframe[cat_cols] = dataframe[cat_cols].astype('category')\n",
    "        dataframe[cat_cols] = pd.Categorical.from_array(dataframe[cat_cols]).codes\n",
    "    for cat_cols in dataframe.select_dtypes(['bool']).columns:\n",
    "        dataframe[cat_cols] = dataframe[cat_cols].astype('category')\n",
    "        dataframe[cat_cols] = pd.Categorical.from_array(dataframe[cat_cols]).codes  # Have to see an alternative\n",
    "\n",
    "    classes = np.array(dataframe[dataframe.columns[-1]])\n",
    "    a_enc = pd.factorize(classes)\n",
    "    Y = np.array(a_enc[0])\n",
    "    for row in dataframe.as_matrix():\n",
    "        row = np.array(row)\n",
    "        X.append(np.array(row[0:len(row) - 1]).astype(float))\n",
    "    X = np.array(X)\n",
    "    return X, Y"
   ]
  },
  {
   "cell_type": "code",
   "execution_count": 20,
   "metadata": {
    "collapsed": true
   },
   "outputs": [],
   "source": [
    "def compute(model, dataset, folds =10 , seed=42):\n",
    "    X, y = read_csv(dataset)\n",
    "    kf = StratifiedKFold(n_splits=folds, shuffle=True, random_state=seed)\n",
    "    accs = np.zeros(folds)   \n",
    "    f1_scores = np.zeros(folds)\n",
    "    btime = np.zeros(folds)\n",
    "    i = 0 \n",
    "    for index_train, index_test in kf.split(X,y):\n",
    "        t0=time.time()\n",
    "        model.fit(X[index_train], y[index_train])\n",
    "        btime[i] = round(time.time()-t0, 6)\n",
    "        \n",
    "        y_true = y[index_test]\n",
    "        y_pred = model.predict(X[index_test])\n",
    "        accs[i] = accuracy_score(y_true, y_pred)\n",
    "        f1_scores[i] = f1_score(y_true, y_pred, average='micro')\n",
    "        i+=1\n",
    "    return accs, f1_scores, btime "
   ]
  },
  {
   "cell_type": "code",
   "execution_count": 21,
   "metadata": {
    "collapsed": false
   },
   "outputs": [
    {
     "name": "stdout",
     "output_type": "stream",
     "text": [
      "/home/pranav/Project/csv_files/electricity_normalised.csv\n",
      "LogisticRegression(C=1.0, class_weight=None, dual=False, fit_intercept=True,\n",
      "          intercept_scaling=1, max_iter=100, multi_class='ovr', n_jobs=1,\n",
      "          penalty='l2', random_state=None, solver='liblinear', tol=0.0001,\n",
      "          verbose=0, warm_start=False)\n"
     ]
    },
    {
     "name": "stderr",
     "output_type": "stream",
     "text": [
      "/home/pranav/anaconda3/lib/python3.6/site-packages/ipykernel/__main__.py:8: FutureWarning: Categorical.from_array is deprecated, use Categorical instead\n"
     ]
    },
    {
     "name": "stdout",
     "output_type": "stream",
     "text": [
      "/home/pranav/Project/csv_files/electricity_normalised.csv\n",
      "MLPClassifier(activation='relu', alpha=0.0001, batch_size='auto', beta_1=0.9,\n",
      "       beta_2=0.999, early_stopping=False, epsilon=1e-08,\n",
      "       hidden_layer_sizes=(100,), learning_rate='constant',\n",
      "       learning_rate_init=0.001, max_iter=200, momentum=0.9,\n",
      "       nesterovs_momentum=True, power_t=0.5, random_state=None,\n",
      "       shuffle=True, solver='adam', tol=0.0001, validation_fraction=0.1,\n",
      "       verbose=False, warm_start=False)\n"
     ]
    },
    {
     "name": "stderr",
     "output_type": "stream",
     "text": [
      "/home/pranav/anaconda3/lib/python3.6/site-packages/ipykernel/__main__.py:8: FutureWarning: Categorical.from_array is deprecated, use Categorical instead\n"
     ]
    },
    {
     "name": "stdout",
     "output_type": "stream",
     "text": [
      "/home/pranav/Project/csv_files/electricity_normalised.csv\n",
      "GaussianNB(priors=None)\n"
     ]
    },
    {
     "name": "stderr",
     "output_type": "stream",
     "text": [
      "/home/pranav/anaconda3/lib/python3.6/site-packages/ipykernel/__main__.py:8: FutureWarning: Categorical.from_array is deprecated, use Categorical instead\n"
     ]
    },
    {
     "name": "stdout",
     "output_type": "stream",
     "text": [
      "/home/pranav/Project/csv_files/electricity_normalised.csv\n",
      "KNeighborsClassifier(algorithm='brute', leaf_size=30, metric='minkowski',\n",
      "           metric_params=None, n_jobs=1, n_neighbors=5, p=2,\n",
      "           weights='uniform')\n"
     ]
    },
    {
     "name": "stderr",
     "output_type": "stream",
     "text": [
      "/home/pranav/anaconda3/lib/python3.6/site-packages/ipykernel/__main__.py:8: FutureWarning: Categorical.from_array is deprecated, use Categorical instead\n"
     ]
    },
    {
     "name": "stdout",
     "output_type": "stream",
     "text": [
      "/home/pranav/Project/csv_files/electricity_normalised.csv\n",
      "DecisionTreeClassifier(class_weight=None, criterion='gini', max_depth=None,\n",
      "            max_features=None, max_leaf_nodes=None,\n",
      "            min_impurity_split=0.25, min_samples_leaf=1,\n",
      "            min_samples_split=2, min_weight_fraction_leaf=0.0,\n",
      "            presort=False, random_state=None, splitter='best')\n"
     ]
    },
    {
     "name": "stderr",
     "output_type": "stream",
     "text": [
      "/home/pranav/anaconda3/lib/python3.6/site-packages/ipykernel/__main__.py:8: FutureWarning: Categorical.from_array is deprecated, use Categorical instead\n"
     ]
    },
    {
     "name": "stdout",
     "output_type": "stream",
     "text": [
      "/home/pranav/Project/csv_files/electricity_normalised.csv\n",
      "RandomForestClassifier(bootstrap=True, class_weight=None, criterion='gini',\n",
      "            max_depth=None, max_features='auto', max_leaf_nodes=None,\n",
      "            min_impurity_split=1e-07, min_samples_leaf=1,\n",
      "            min_samples_split=2, min_weight_fraction_leaf=0.0,\n",
      "            n_estimators=10, n_jobs=1, oob_score=False, random_state=None,\n",
      "            verbose=0, warm_start=False)\n"
     ]
    },
    {
     "name": "stderr",
     "output_type": "stream",
     "text": [
      "/home/pranav/anaconda3/lib/python3.6/site-packages/ipykernel/__main__.py:8: FutureWarning: Categorical.from_array is deprecated, use Categorical instead\n",
      "/home/pranav/anaconda3/lib/python3.6/site-packages/ipykernel/__main__.py:8: FutureWarning: Categorical.from_array is deprecated, use Categorical instead\n",
      "/home/pranav/anaconda3/lib/python3.6/site-packages/ipykernel/__main__.py:8: FutureWarning: Categorical.from_array is deprecated, use Categorical instead\n"
     ]
    },
    {
     "name": "stdout",
     "output_type": "stream",
     "text": [
      "/home/pranav/Project/csv_files/pc4.csv\n",
      "LogisticRegression(C=1.0, class_weight=None, dual=False, fit_intercept=True,\n",
      "          intercept_scaling=1, max_iter=100, multi_class='ovr', n_jobs=1,\n",
      "          penalty='l2', random_state=None, solver='liblinear', tol=0.0001,\n",
      "          verbose=0, warm_start=False)\n"
     ]
    },
    {
     "name": "stderr",
     "output_type": "stream",
     "text": [
      "/home/pranav/anaconda3/lib/python3.6/site-packages/ipykernel/__main__.py:11: FutureWarning: Categorical.from_array is deprecated, use Categorical instead\n"
     ]
    },
    {
     "name": "stdout",
     "output_type": "stream",
     "text": [
      "/home/pranav/Project/csv_files/pc4.csv\n",
      "MLPClassifier(activation='relu', alpha=0.0001, batch_size='auto', beta_1=0.9,\n",
      "       beta_2=0.999, early_stopping=False, epsilon=1e-08,\n",
      "       hidden_layer_sizes=(100,), learning_rate='constant',\n",
      "       learning_rate_init=0.001, max_iter=200, momentum=0.9,\n",
      "       nesterovs_momentum=True, power_t=0.5, random_state=None,\n",
      "       shuffle=True, solver='adam', tol=0.0001, validation_fraction=0.1,\n",
      "       verbose=False, warm_start=False)\n"
     ]
    },
    {
     "name": "stderr",
     "output_type": "stream",
     "text": [
      "/home/pranav/anaconda3/lib/python3.6/site-packages/ipykernel/__main__.py:11: FutureWarning: Categorical.from_array is deprecated, use Categorical instead\n"
     ]
    },
    {
     "name": "stdout",
     "output_type": "stream",
     "text": [
      "/home/pranav/Project/csv_files/pc4.csv\n",
      "GaussianNB(priors=None)\n",
      "/home/pranav/Project/csv_files/pc4.csv\n",
      "KNeighborsClassifier(algorithm='brute', leaf_size=30, metric='minkowski',\n",
      "           metric_params=None, n_jobs=1, n_neighbors=5, p=2,\n",
      "           weights='uniform')\n"
     ]
    },
    {
     "name": "stderr",
     "output_type": "stream",
     "text": [
      "/home/pranav/anaconda3/lib/python3.6/site-packages/ipykernel/__main__.py:11: FutureWarning: Categorical.from_array is deprecated, use Categorical instead\n",
      "/home/pranav/anaconda3/lib/python3.6/site-packages/ipykernel/__main__.py:11: FutureWarning: Categorical.from_array is deprecated, use Categorical instead\n"
     ]
    },
    {
     "name": "stdout",
     "output_type": "stream",
     "text": [
      "/home/pranav/Project/csv_files/pc4.csv\n",
      "DecisionTreeClassifier(class_weight=None, criterion='gini', max_depth=None,\n",
      "            max_features=None, max_leaf_nodes=None,\n",
      "            min_impurity_split=0.25, min_samples_leaf=1,\n",
      "            min_samples_split=2, min_weight_fraction_leaf=0.0,\n",
      "            presort=False, random_state=None, splitter='best')\n",
      "/home/pranav/Project/csv_files/pc4.csv\n",
      "RandomForestClassifier(bootstrap=True, class_weight=None, criterion='gini',\n",
      "            max_depth=None, max_features='auto', max_leaf_nodes=None,\n",
      "            min_impurity_split=1e-07, min_samples_leaf=1,\n",
      "            min_samples_split=2, min_weight_fraction_leaf=0.0,\n",
      "            n_estimators=10, n_jobs=1, oob_score=False, random_state=None,\n",
      "            verbose=0, warm_start=False)\n"
     ]
    },
    {
     "name": "stderr",
     "output_type": "stream",
     "text": [
      "/home/pranav/anaconda3/lib/python3.6/site-packages/ipykernel/__main__.py:11: FutureWarning: Categorical.from_array is deprecated, use Categorical instead\n",
      "/home/pranav/anaconda3/lib/python3.6/site-packages/ipykernel/__main__.py:11: FutureWarning: Categorical.from_array is deprecated, use Categorical instead\n",
      "/home/pranav/anaconda3/lib/python3.6/site-packages/ipykernel/__main__.py:11: FutureWarning: Categorical.from_array is deprecated, use Categorical instead\n",
      "/home/pranav/anaconda3/lib/python3.6/site-packages/ipykernel/__main__.py:11: FutureWarning: Categorical.from_array is deprecated, use Categorical instead\n"
     ]
    },
    {
     "name": "stdout",
     "output_type": "stream",
     "text": [
      "/home/pranav/Project/csv_files/credit.csv\n",
      "LogisticRegression(C=1.0, class_weight=None, dual=False, fit_intercept=True,\n",
      "          intercept_scaling=1, max_iter=100, multi_class='ovr', n_jobs=1,\n",
      "          penalty='l2', random_state=None, solver='liblinear', tol=0.0001,\n",
      "          verbose=0, warm_start=False)\n"
     ]
    },
    {
     "name": "stderr",
     "output_type": "stream",
     "text": [
      "/home/pranav/anaconda3/lib/python3.6/site-packages/ipykernel/__main__.py:8: FutureWarning: Categorical.from_array is deprecated, use Categorical instead\n"
     ]
    },
    {
     "name": "stdout",
     "output_type": "stream",
     "text": [
      "/home/pranav/Project/csv_files/credit.csv\n",
      "MLPClassifier(activation='relu', alpha=0.0001, batch_size='auto', beta_1=0.9,\n",
      "       beta_2=0.999, early_stopping=False, epsilon=1e-08,\n",
      "       hidden_layer_sizes=(100,), learning_rate='constant',\n",
      "       learning_rate_init=0.001, max_iter=200, momentum=0.9,\n",
      "       nesterovs_momentum=True, power_t=0.5, random_state=None,\n",
      "       shuffle=True, solver='adam', tol=0.0001, validation_fraction=0.1,\n",
      "       verbose=False, warm_start=False)\n"
     ]
    },
    {
     "name": "stderr",
     "output_type": "stream",
     "text": [
      "/home/pranav/anaconda3/lib/python3.6/site-packages/ipykernel/__main__.py:8: FutureWarning: Categorical.from_array is deprecated, use Categorical instead\n"
     ]
    },
    {
     "name": "stdout",
     "output_type": "stream",
     "text": [
      "/home/pranav/Project/csv_files/credit.csv\n",
      "GaussianNB(priors=None)\n",
      "/home/pranav/Project/csv_files/credit.csv\n",
      "KNeighborsClassifier(algorithm='brute', leaf_size=30, metric='minkowski',\n",
      "           metric_params=None, n_jobs=1, n_neighbors=5, p=2,\n",
      "           weights='uniform')\n"
     ]
    },
    {
     "name": "stderr",
     "output_type": "stream",
     "text": [
      "/home/pranav/anaconda3/lib/python3.6/site-packages/ipykernel/__main__.py:8: FutureWarning: Categorical.from_array is deprecated, use Categorical instead\n",
      "/home/pranav/anaconda3/lib/python3.6/site-packages/ipykernel/__main__.py:8: FutureWarning: Categorical.from_array is deprecated, use Categorical instead\n"
     ]
    },
    {
     "name": "stdout",
     "output_type": "stream",
     "text": [
      "/home/pranav/Project/csv_files/credit.csv\n",
      "DecisionTreeClassifier(class_weight=None, criterion='gini', max_depth=None,\n",
      "            max_features=None, max_leaf_nodes=None,\n",
      "            min_impurity_split=0.25, min_samples_leaf=1,\n",
      "            min_samples_split=2, min_weight_fraction_leaf=0.0,\n",
      "            presort=False, random_state=None, splitter='best')\n",
      "/home/pranav/Project/csv_files/credit.csv\n",
      "RandomForestClassifier(bootstrap=True, class_weight=None, criterion='gini',\n",
      "            max_depth=None, max_features='auto', max_leaf_nodes=None,\n",
      "            min_impurity_split=1e-07, min_samples_leaf=1,\n",
      "            min_samples_split=2, min_weight_fraction_leaf=0.0,\n",
      "            n_estimators=10, n_jobs=1, oob_score=False, random_state=None,\n",
      "            verbose=0, warm_start=False)\n"
     ]
    },
    {
     "name": "stderr",
     "output_type": "stream",
     "text": [
      "/home/pranav/anaconda3/lib/python3.6/site-packages/ipykernel/__main__.py:8: FutureWarning: Categorical.from_array is deprecated, use Categorical instead\n",
      "/home/pranav/anaconda3/lib/python3.6/site-packages/ipykernel/__main__.py:8: FutureWarning: Categorical.from_array is deprecated, use Categorical instead\n",
      "/home/pranav/anaconda3/lib/python3.6/site-packages/ipykernel/__main__.py:8: FutureWarning: Categorical.from_array is deprecated, use Categorical instead\n",
      "/home/pranav/anaconda3/lib/python3.6/site-packages/ipykernel/__main__.py:8: FutureWarning: Categorical.from_array is deprecated, use Categorical instead\n"
     ]
    },
    {
     "name": "stdout",
     "output_type": "stream",
     "text": [
      "/home/pranav/Project/csv_files/MagicTelescope.csv\n",
      "LogisticRegression(C=1.0, class_weight=None, dual=False, fit_intercept=True,\n",
      "          intercept_scaling=1, max_iter=100, multi_class='ovr', n_jobs=1,\n",
      "          penalty='l2', random_state=None, solver='liblinear', tol=0.0001,\n",
      "          verbose=0, warm_start=False)\n"
     ]
    },
    {
     "name": "stderr",
     "output_type": "stream",
     "text": [
      "/home/pranav/anaconda3/lib/python3.6/site-packages/ipykernel/__main__.py:8: FutureWarning: Categorical.from_array is deprecated, use Categorical instead\n"
     ]
    },
    {
     "name": "stdout",
     "output_type": "stream",
     "text": [
      "/home/pranav/Project/csv_files/MagicTelescope.csv\n",
      "MLPClassifier(activation='relu', alpha=0.0001, batch_size='auto', beta_1=0.9,\n",
      "       beta_2=0.999, early_stopping=False, epsilon=1e-08,\n",
      "       hidden_layer_sizes=(100,), learning_rate='constant',\n",
      "       learning_rate_init=0.001, max_iter=200, momentum=0.9,\n",
      "       nesterovs_momentum=True, power_t=0.5, random_state=None,\n",
      "       shuffle=True, solver='adam', tol=0.0001, validation_fraction=0.1,\n",
      "       verbose=False, warm_start=False)\n"
     ]
    },
    {
     "name": "stderr",
     "output_type": "stream",
     "text": [
      "/home/pranav/anaconda3/lib/python3.6/site-packages/ipykernel/__main__.py:8: FutureWarning: Categorical.from_array is deprecated, use Categorical instead\n"
     ]
    },
    {
     "name": "stdout",
     "output_type": "stream",
     "text": [
      "/home/pranav/Project/csv_files/MagicTelescope.csv\n",
      "GaussianNB(priors=None)\n"
     ]
    },
    {
     "name": "stderr",
     "output_type": "stream",
     "text": [
      "/home/pranav/anaconda3/lib/python3.6/site-packages/ipykernel/__main__.py:8: FutureWarning: Categorical.from_array is deprecated, use Categorical instead\n"
     ]
    },
    {
     "name": "stdout",
     "output_type": "stream",
     "text": [
      "/home/pranav/Project/csv_files/MagicTelescope.csv\n",
      "KNeighborsClassifier(algorithm='brute', leaf_size=30, metric='minkowski',\n",
      "           metric_params=None, n_jobs=1, n_neighbors=5, p=2,\n",
      "           weights='uniform')\n"
     ]
    },
    {
     "name": "stderr",
     "output_type": "stream",
     "text": [
      "/home/pranav/anaconda3/lib/python3.6/site-packages/ipykernel/__main__.py:8: FutureWarning: Categorical.from_array is deprecated, use Categorical instead\n"
     ]
    },
    {
     "name": "stdout",
     "output_type": "stream",
     "text": [
      "/home/pranav/Project/csv_files/MagicTelescope.csv\n",
      "DecisionTreeClassifier(class_weight=None, criterion='gini', max_depth=None,\n",
      "            max_features=None, max_leaf_nodes=None,\n",
      "            min_impurity_split=0.25, min_samples_leaf=1,\n",
      "            min_samples_split=2, min_weight_fraction_leaf=0.0,\n",
      "            presort=False, random_state=None, splitter='best')\n"
     ]
    },
    {
     "name": "stderr",
     "output_type": "stream",
     "text": [
      "/home/pranav/anaconda3/lib/python3.6/site-packages/ipykernel/__main__.py:8: FutureWarning: Categorical.from_array is deprecated, use Categorical instead\n"
     ]
    },
    {
     "name": "stdout",
     "output_type": "stream",
     "text": [
      "/home/pranav/Project/csv_files/MagicTelescope.csv\n",
      "RandomForestClassifier(bootstrap=True, class_weight=None, criterion='gini',\n",
      "            max_depth=None, max_features='auto', max_leaf_nodes=None,\n",
      "            min_impurity_split=1e-07, min_samples_leaf=1,\n",
      "            min_samples_split=2, min_weight_fraction_leaf=0.0,\n",
      "            n_estimators=10, n_jobs=1, oob_score=False, random_state=None,\n",
      "            verbose=0, warm_start=False)\n"
     ]
    },
    {
     "name": "stderr",
     "output_type": "stream",
     "text": [
      "/home/pranav/anaconda3/lib/python3.6/site-packages/ipykernel/__main__.py:8: FutureWarning: Categorical.from_array is deprecated, use Categorical instead\n",
      "/home/pranav/anaconda3/lib/python3.6/site-packages/ipykernel/__main__.py:8: FutureWarning: Categorical.from_array is deprecated, use Categorical instead\n",
      "/home/pranav/anaconda3/lib/python3.6/site-packages/ipykernel/__main__.py:8: FutureWarning: Categorical.from_array is deprecated, use Categorical instead\n"
     ]
    },
    {
     "name": "stdout",
     "output_type": "stream",
     "text": [
      "/home/pranav/Project/csv_files/irish.csv\n",
      "LogisticRegression(C=1.0, class_weight=None, dual=False, fit_intercept=True,\n",
      "          intercept_scaling=1, max_iter=100, multi_class='ovr', n_jobs=1,\n",
      "          penalty='l2', random_state=None, solver='liblinear', tol=0.0001,\n",
      "          verbose=0, warm_start=False)\n"
     ]
    },
    {
     "name": "stderr",
     "output_type": "stream",
     "text": [
      "/home/pranav/anaconda3/lib/python3.6/site-packages/ipykernel/__main__.py:8: FutureWarning: Categorical.from_array is deprecated, use Categorical instead\n"
     ]
    },
    {
     "name": "stdout",
     "output_type": "stream",
     "text": [
      "/home/pranav/Project/csv_files/irish.csv\n",
      "MLPClassifier(activation='relu', alpha=0.0001, batch_size='auto', beta_1=0.9,\n",
      "       beta_2=0.999, early_stopping=False, epsilon=1e-08,\n",
      "       hidden_layer_sizes=(100,), learning_rate='constant',\n",
      "       learning_rate_init=0.001, max_iter=200, momentum=0.9,\n",
      "       nesterovs_momentum=True, power_t=0.5, random_state=None,\n",
      "       shuffle=True, solver='adam', tol=0.0001, validation_fraction=0.1,\n",
      "       verbose=False, warm_start=False)\n"
     ]
    },
    {
     "name": "stderr",
     "output_type": "stream",
     "text": [
      "/home/pranav/anaconda3/lib/python3.6/site-packages/ipykernel/__main__.py:8: FutureWarning: Categorical.from_array is deprecated, use Categorical instead\n"
     ]
    },
    {
     "name": "stdout",
     "output_type": "stream",
     "text": [
      "/home/pranav/Project/csv_files/irish.csv\n",
      "GaussianNB(priors=None)\n",
      "/home/pranav/Project/csv_files/irish.csv\n",
      "KNeighborsClassifier(algorithm='brute', leaf_size=30, metric='minkowski',\n",
      "           metric_params=None, n_jobs=1, n_neighbors=5, p=2,\n",
      "           weights='uniform')\n",
      "/home/pranav/Project/csv_files/irish.csv\n",
      "DecisionTreeClassifier(class_weight=None, criterion='gini', max_depth=None,\n",
      "            max_features=None, max_leaf_nodes=None,\n",
      "            min_impurity_split=0.25, min_samples_leaf=1,\n",
      "            min_samples_split=2, min_weight_fraction_leaf=0.0,\n",
      "            presort=False, random_state=None, splitter='best')\n"
     ]
    },
    {
     "name": "stderr",
     "output_type": "stream",
     "text": [
      "/home/pranav/anaconda3/lib/python3.6/site-packages/ipykernel/__main__.py:8: FutureWarning: Categorical.from_array is deprecated, use Categorical instead\n",
      "/home/pranav/anaconda3/lib/python3.6/site-packages/ipykernel/__main__.py:8: FutureWarning: Categorical.from_array is deprecated, use Categorical instead\n",
      "/home/pranav/anaconda3/lib/python3.6/site-packages/ipykernel/__main__.py:8: FutureWarning: Categorical.from_array is deprecated, use Categorical instead\n"
     ]
    },
    {
     "name": "stdout",
     "output_type": "stream",
     "text": [
      "/home/pranav/Project/csv_files/irish.csv\n",
      "RandomForestClassifier(bootstrap=True, class_weight=None, criterion='gini',\n",
      "            max_depth=None, max_features='auto', max_leaf_nodes=None,\n",
      "            min_impurity_split=1e-07, min_samples_leaf=1,\n",
      "            min_samples_split=2, min_weight_fraction_leaf=0.0,\n",
      "            n_estimators=10, n_jobs=1, oob_score=False, random_state=None,\n",
      "            verbose=0, warm_start=False)\n"
     ]
    },
    {
     "name": "stderr",
     "output_type": "stream",
     "text": [
      "/home/pranav/anaconda3/lib/python3.6/site-packages/ipykernel/__main__.py:8: FutureWarning: Categorical.from_array is deprecated, use Categorical instead\n",
      "/home/pranav/anaconda3/lib/python3.6/site-packages/ipykernel/__main__.py:8: FutureWarning: Categorical.from_array is deprecated, use Categorical instead\n",
      "/home/pranav/anaconda3/lib/python3.6/site-packages/ipykernel/__main__.py:8: FutureWarning: Categorical.from_array is deprecated, use Categorical instead\n",
      "/home/pranav/anaconda3/lib/python3.6/site-packages/ipykernel/__main__.py:11: FutureWarning: Categorical.from_array is deprecated, use Categorical instead\n"
     ]
    },
    {
     "name": "stdout",
     "output_type": "stream",
     "text": [
      "/home/pranav/Project/csv_files/pc1.csv\n",
      "LogisticRegression(C=1.0, class_weight=None, dual=False, fit_intercept=True,\n",
      "          intercept_scaling=1, max_iter=100, multi_class='ovr', n_jobs=1,\n",
      "          penalty='l2', random_state=None, solver='liblinear', tol=0.0001,\n",
      "          verbose=0, warm_start=False)\n",
      "/home/pranav/Project/csv_files/pc1.csv\n",
      "MLPClassifier(activation='relu', alpha=0.0001, batch_size='auto', beta_1=0.9,\n",
      "       beta_2=0.999, early_stopping=False, epsilon=1e-08,\n",
      "       hidden_layer_sizes=(100,), learning_rate='constant',\n",
      "       learning_rate_init=0.001, max_iter=200, momentum=0.9,\n",
      "       nesterovs_momentum=True, power_t=0.5, random_state=None,\n",
      "       shuffle=True, solver='adam', tol=0.0001, validation_fraction=0.1,\n",
      "       verbose=False, warm_start=False)\n"
     ]
    },
    {
     "name": "stderr",
     "output_type": "stream",
     "text": [
      "/home/pranav/anaconda3/lib/python3.6/site-packages/ipykernel/__main__.py:11: FutureWarning: Categorical.from_array is deprecated, use Categorical instead\n"
     ]
    },
    {
     "name": "stdout",
     "output_type": "stream",
     "text": [
      "/home/pranav/Project/csv_files/pc1.csv\n",
      "GaussianNB(priors=None)\n",
      "/home/pranav/Project/csv_files/pc1.csv\n",
      "KNeighborsClassifier(algorithm='brute', leaf_size=30, metric='minkowski',\n",
      "           metric_params=None, n_jobs=1, n_neighbors=5, p=2,\n",
      "           weights='uniform')\n"
     ]
    },
    {
     "name": "stderr",
     "output_type": "stream",
     "text": [
      "/home/pranav/anaconda3/lib/python3.6/site-packages/ipykernel/__main__.py:11: FutureWarning: Categorical.from_array is deprecated, use Categorical instead\n",
      "/home/pranav/anaconda3/lib/python3.6/site-packages/ipykernel/__main__.py:11: FutureWarning: Categorical.from_array is deprecated, use Categorical instead\n"
     ]
    },
    {
     "name": "stdout",
     "output_type": "stream",
     "text": [
      "/home/pranav/Project/csv_files/pc1.csv\n",
      "DecisionTreeClassifier(class_weight=None, criterion='gini', max_depth=None,\n",
      "            max_features=None, max_leaf_nodes=None,\n",
      "            min_impurity_split=0.25, min_samples_leaf=1,\n",
      "            min_samples_split=2, min_weight_fraction_leaf=0.0,\n",
      "            presort=False, random_state=None, splitter='best')\n",
      "/home/pranav/Project/csv_files/pc1.csv\n",
      "RandomForestClassifier(bootstrap=True, class_weight=None, criterion='gini',\n",
      "            max_depth=None, max_features='auto', max_leaf_nodes=None,\n",
      "            min_impurity_split=1e-07, min_samples_leaf=1,\n",
      "            min_samples_split=2, min_weight_fraction_leaf=0.0,\n",
      "            n_estimators=10, n_jobs=1, oob_score=False, random_state=None,\n",
      "            verbose=0, warm_start=False)\n"
     ]
    },
    {
     "name": "stderr",
     "output_type": "stream",
     "text": [
      "/home/pranav/anaconda3/lib/python3.6/site-packages/ipykernel/__main__.py:11: FutureWarning: Categorical.from_array is deprecated, use Categorical instead\n",
      "/home/pranav/anaconda3/lib/python3.6/site-packages/ipykernel/__main__.py:11: FutureWarning: Categorical.from_array is deprecated, use Categorical instead\n",
      "/home/pranav/anaconda3/lib/python3.6/site-packages/ipykernel/__main__.py:11: FutureWarning: Categorical.from_array is deprecated, use Categorical instead\n",
      "/home/pranav/anaconda3/lib/python3.6/site-packages/ipykernel/__main__.py:11: FutureWarning: Categorical.from_array is deprecated, use Categorical instead\n"
     ]
    },
    {
     "name": "stdout",
     "output_type": "stream",
     "text": [
      "/home/pranav/Project/csv_files/tic-tac-toe.csv\n",
      "LogisticRegression(C=1.0, class_weight=None, dual=False, fit_intercept=True,\n",
      "          intercept_scaling=1, max_iter=100, multi_class='ovr', n_jobs=1,\n",
      "          penalty='l2', random_state=None, solver='liblinear', tol=0.0001,\n",
      "          verbose=0, warm_start=False)\n",
      "/home/pranav/Project/csv_files/tic-tac-toe.csv\n",
      "MLPClassifier(activation='relu', alpha=0.0001, batch_size='auto', beta_1=0.9,\n",
      "       beta_2=0.999, early_stopping=False, epsilon=1e-08,\n",
      "       hidden_layer_sizes=(100,), learning_rate='constant',\n",
      "       learning_rate_init=0.001, max_iter=200, momentum=0.9,\n",
      "       nesterovs_momentum=True, power_t=0.5, random_state=None,\n",
      "       shuffle=True, solver='adam', tol=0.0001, validation_fraction=0.1,\n",
      "       verbose=False, warm_start=False)\n"
     ]
    },
    {
     "name": "stderr",
     "output_type": "stream",
     "text": [
      "/home/pranav/anaconda3/lib/python3.6/site-packages/ipykernel/__main__.py:8: FutureWarning: Categorical.from_array is deprecated, use Categorical instead\n",
      "/home/pranav/anaconda3/lib/python3.6/site-packages/ipykernel/__main__.py:8: FutureWarning: Categorical.from_array is deprecated, use Categorical instead\n",
      "/home/pranav/anaconda3/lib/python3.6/site-packages/sklearn/neural_network/multilayer_perceptron.py:563: ConvergenceWarning: Stochastic Optimizer: Maximum iterations reached and the optimization hasn't converged yet.\n",
      "  % (), ConvergenceWarning)\n"
     ]
    },
    {
     "name": "stdout",
     "output_type": "stream",
     "text": [
      "/home/pranav/Project/csv_files/tic-tac-toe.csv\n",
      "GaussianNB(priors=None)\n",
      "/home/pranav/Project/csv_files/tic-tac-toe.csv\n",
      "KNeighborsClassifier(algorithm='brute', leaf_size=30, metric='minkowski',\n",
      "           metric_params=None, n_jobs=1, n_neighbors=5, p=2,\n",
      "           weights='uniform')\n"
     ]
    },
    {
     "name": "stderr",
     "output_type": "stream",
     "text": [
      "/home/pranav/anaconda3/lib/python3.6/site-packages/ipykernel/__main__.py:8: FutureWarning: Categorical.from_array is deprecated, use Categorical instead\n",
      "/home/pranav/anaconda3/lib/python3.6/site-packages/ipykernel/__main__.py:8: FutureWarning: Categorical.from_array is deprecated, use Categorical instead\n"
     ]
    },
    {
     "name": "stdout",
     "output_type": "stream",
     "text": [
      "/home/pranav/Project/csv_files/tic-tac-toe.csv\n",
      "DecisionTreeClassifier(class_weight=None, criterion='gini', max_depth=None,\n",
      "            max_features=None, max_leaf_nodes=None,\n",
      "            min_impurity_split=0.25, min_samples_leaf=1,\n",
      "            min_samples_split=2, min_weight_fraction_leaf=0.0,\n",
      "            presort=False, random_state=None, splitter='best')\n",
      "/home/pranav/Project/csv_files/tic-tac-toe.csv\n",
      "RandomForestClassifier(bootstrap=True, class_weight=None, criterion='gini',\n",
      "            max_depth=None, max_features='auto', max_leaf_nodes=None,\n",
      "            min_impurity_split=1e-07, min_samples_leaf=1,\n",
      "            min_samples_split=2, min_weight_fraction_leaf=0.0,\n",
      "            n_estimators=10, n_jobs=1, oob_score=False, random_state=None,\n",
      "            verbose=0, warm_start=False)\n"
     ]
    },
    {
     "name": "stderr",
     "output_type": "stream",
     "text": [
      "/home/pranav/anaconda3/lib/python3.6/site-packages/ipykernel/__main__.py:8: FutureWarning: Categorical.from_array is deprecated, use Categorical instead\n",
      "/home/pranav/anaconda3/lib/python3.6/site-packages/ipykernel/__main__.py:8: FutureWarning: Categorical.from_array is deprecated, use Categorical instead\n",
      "/home/pranav/anaconda3/lib/python3.6/site-packages/ipykernel/__main__.py:8: FutureWarning: Categorical.from_array is deprecated, use Categorical instead\n",
      "/home/pranav/anaconda3/lib/python3.6/site-packages/ipykernel/__main__.py:8: FutureWarning: Categorical.from_array is deprecated, use Categorical instead\n"
     ]
    },
    {
     "name": "stdout",
     "output_type": "stream",
     "text": [
      "/home/pranav/Project/csv_files/ionosphere.csv\n",
      "LogisticRegression(C=1.0, class_weight=None, dual=False, fit_intercept=True,\n",
      "          intercept_scaling=1, max_iter=100, multi_class='ovr', n_jobs=1,\n",
      "          penalty='l2', random_state=None, solver='liblinear', tol=0.0001,\n",
      "          verbose=0, warm_start=False)\n",
      "/home/pranav/Project/csv_files/ionosphere.csv\n",
      "MLPClassifier(activation='relu', alpha=0.0001, batch_size='auto', beta_1=0.9,\n",
      "       beta_2=0.999, early_stopping=False, epsilon=1e-08,\n",
      "       hidden_layer_sizes=(100,), learning_rate='constant',\n",
      "       learning_rate_init=0.001, max_iter=200, momentum=0.9,\n",
      "       nesterovs_momentum=True, power_t=0.5, random_state=None,\n",
      "       shuffle=True, solver='adam', tol=0.0001, validation_fraction=0.1,\n",
      "       verbose=False, warm_start=False)\n"
     ]
    },
    {
     "name": "stderr",
     "output_type": "stream",
     "text": [
      "/home/pranav/anaconda3/lib/python3.6/site-packages/ipykernel/__main__.py:8: FutureWarning: Categorical.from_array is deprecated, use Categorical instead\n",
      "/home/pranav/anaconda3/lib/python3.6/site-packages/ipykernel/__main__.py:8: FutureWarning: Categorical.from_array is deprecated, use Categorical instead\n",
      "/home/pranav/anaconda3/lib/python3.6/site-packages/sklearn/neural_network/multilayer_perceptron.py:563: ConvergenceWarning: Stochastic Optimizer: Maximum iterations reached and the optimization hasn't converged yet.\n",
      "  % (), ConvergenceWarning)\n"
     ]
    },
    {
     "name": "stdout",
     "output_type": "stream",
     "text": [
      "/home/pranav/Project/csv_files/ionosphere.csv\n",
      "GaussianNB(priors=None)\n",
      "/home/pranav/Project/csv_files/ionosphere.csv\n",
      "KNeighborsClassifier(algorithm='brute', leaf_size=30, metric='minkowski',\n",
      "           metric_params=None, n_jobs=1, n_neighbors=5, p=2,\n",
      "           weights='uniform')\n",
      "/home/pranav/Project/csv_files/ionosphere.csv\n",
      "DecisionTreeClassifier(class_weight=None, criterion='gini', max_depth=None,\n",
      "            max_features=None, max_leaf_nodes=None,\n",
      "            min_impurity_split=0.25, min_samples_leaf=1,\n",
      "            min_samples_split=2, min_weight_fraction_leaf=0.0,\n",
      "            presort=False, random_state=None, splitter='best')\n"
     ]
    },
    {
     "name": "stderr",
     "output_type": "stream",
     "text": [
      "/home/pranav/anaconda3/lib/python3.6/site-packages/ipykernel/__main__.py:8: FutureWarning: Categorical.from_array is deprecated, use Categorical instead\n",
      "/home/pranav/anaconda3/lib/python3.6/site-packages/ipykernel/__main__.py:8: FutureWarning: Categorical.from_array is deprecated, use Categorical instead\n",
      "/home/pranav/anaconda3/lib/python3.6/site-packages/ipykernel/__main__.py:8: FutureWarning: Categorical.from_array is deprecated, use Categorical instead\n"
     ]
    },
    {
     "name": "stdout",
     "output_type": "stream",
     "text": [
      "/home/pranav/Project/csv_files/ionosphere.csv\n",
      "RandomForestClassifier(bootstrap=True, class_weight=None, criterion='gini',\n",
      "            max_depth=None, max_features='auto', max_leaf_nodes=None,\n",
      "            min_impurity_split=1e-07, min_samples_leaf=1,\n",
      "            min_samples_split=2, min_weight_fraction_leaf=0.0,\n",
      "            n_estimators=10, n_jobs=1, oob_score=False, random_state=None,\n",
      "            verbose=0, warm_start=False)\n"
     ]
    },
    {
     "name": "stderr",
     "output_type": "stream",
     "text": [
      "/home/pranav/anaconda3/lib/python3.6/site-packages/ipykernel/__main__.py:8: FutureWarning: Categorical.from_array is deprecated, use Categorical instead\n",
      "/home/pranav/anaconda3/lib/python3.6/site-packages/ipykernel/__main__.py:8: FutureWarning: Categorical.from_array is deprecated, use Categorical instead\n",
      "/home/pranav/anaconda3/lib/python3.6/site-packages/ipykernel/__main__.py:8: FutureWarning: Categorical.from_array is deprecated, use Categorical instead\n"
     ]
    },
    {
     "name": "stdout",
     "output_type": "stream",
     "text": [
      "/home/pranav/Project/csv_files/diabetes.csv\n",
      "LogisticRegression(C=1.0, class_weight=None, dual=False, fit_intercept=True,\n",
      "          intercept_scaling=1, max_iter=100, multi_class='ovr', n_jobs=1,\n",
      "          penalty='l2', random_state=None, solver='liblinear', tol=0.0001,\n",
      "          verbose=0, warm_start=False)\n"
     ]
    },
    {
     "name": "stderr",
     "output_type": "stream",
     "text": [
      "/home/pranav/anaconda3/lib/python3.6/site-packages/ipykernel/__main__.py:8: FutureWarning: Categorical.from_array is deprecated, use Categorical instead\n"
     ]
    },
    {
     "name": "stdout",
     "output_type": "stream",
     "text": [
      "/home/pranav/Project/csv_files/diabetes.csv\n",
      "MLPClassifier(activation='relu', alpha=0.0001, batch_size='auto', beta_1=0.9,\n",
      "       beta_2=0.999, early_stopping=False, epsilon=1e-08,\n",
      "       hidden_layer_sizes=(100,), learning_rate='constant',\n",
      "       learning_rate_init=0.001, max_iter=200, momentum=0.9,\n",
      "       nesterovs_momentum=True, power_t=0.5, random_state=None,\n",
      "       shuffle=True, solver='adam', tol=0.0001, validation_fraction=0.1,\n",
      "       verbose=False, warm_start=False)\n"
     ]
    },
    {
     "name": "stderr",
     "output_type": "stream",
     "text": [
      "/home/pranav/anaconda3/lib/python3.6/site-packages/ipykernel/__main__.py:8: FutureWarning: Categorical.from_array is deprecated, use Categorical instead\n"
     ]
    },
    {
     "name": "stdout",
     "output_type": "stream",
     "text": [
      "/home/pranav/Project/csv_files/diabetes.csv\n",
      "GaussianNB(priors=None)\n",
      "/home/pranav/Project/csv_files/diabetes.csv\n",
      "KNeighborsClassifier(algorithm='brute', leaf_size=30, metric='minkowski',\n",
      "           metric_params=None, n_jobs=1, n_neighbors=5, p=2,\n",
      "           weights='uniform')\n",
      "/home/pranav/Project/csv_files/diabetes.csv\n",
      "DecisionTreeClassifier(class_weight=None, criterion='gini', max_depth=None,\n",
      "            max_features=None, max_leaf_nodes=None,\n",
      "            min_impurity_split=0.25, min_samples_leaf=1,\n",
      "            min_samples_split=2, min_weight_fraction_leaf=0.0,\n",
      "            presort=False, random_state=None, splitter='best')\n"
     ]
    },
    {
     "name": "stderr",
     "output_type": "stream",
     "text": [
      "/home/pranav/anaconda3/lib/python3.6/site-packages/ipykernel/__main__.py:8: FutureWarning: Categorical.from_array is deprecated, use Categorical instead\n",
      "/home/pranav/anaconda3/lib/python3.6/site-packages/ipykernel/__main__.py:8: FutureWarning: Categorical.from_array is deprecated, use Categorical instead\n",
      "/home/pranav/anaconda3/lib/python3.6/site-packages/ipykernel/__main__.py:8: FutureWarning: Categorical.from_array is deprecated, use Categorical instead\n"
     ]
    },
    {
     "name": "stdout",
     "output_type": "stream",
     "text": [
      "/home/pranav/Project/csv_files/diabetes.csv\n",
      "RandomForestClassifier(bootstrap=True, class_weight=None, criterion='gini',\n",
      "            max_depth=None, max_features='auto', max_leaf_nodes=None,\n",
      "            min_impurity_split=1e-07, min_samples_leaf=1,\n",
      "            min_samples_split=2, min_weight_fraction_leaf=0.0,\n",
      "            n_estimators=10, n_jobs=1, oob_score=False, random_state=None,\n",
      "            verbose=0, warm_start=False)\n"
     ]
    },
    {
     "name": "stderr",
     "output_type": "stream",
     "text": [
      "/home/pranav/anaconda3/lib/python3.6/site-packages/ipykernel/__main__.py:8: FutureWarning: Categorical.from_array is deprecated, use Categorical instead\n",
      "/home/pranav/anaconda3/lib/python3.6/site-packages/ipykernel/__main__.py:8: FutureWarning: Categorical.from_array is deprecated, use Categorical instead\n",
      "/home/pranav/anaconda3/lib/python3.6/site-packages/ipykernel/__main__.py:8: FutureWarning: Categorical.from_array is deprecated, use Categorical instead\n"
     ]
    }
   ],
   "source": [
    "shape = (len(datasets), len(models), 10)\n",
    "accuracies = np.zeros(shape)\n",
    "f1_scores = np.zeros(shape)\n",
    "build_time = np.zeros(shape)\n",
    "for i, d in enumerate(datasets):\n",
    "    for j, m in enumerate(models):\n",
    "        print(d)\n",
    "        print(m)\n",
    "        accuracies[i,j] = compute(m, d)[0]\n",
    "        f1_scores[i,j] = compute(m, d)[1]\n",
    "        build_time[i,j] = compute(m, d)[2]"
   ]
  },
  {
   "cell_type": "code",
   "execution_count": null,
   "metadata": {
    "collapsed": false
   },
   "outputs": [],
   "source": []
  },
  {
   "cell_type": "code",
   "execution_count": 22,
   "metadata": {
    "collapsed": false
   },
   "outputs": [
    {
     "data": {
      "text/plain": [
       "array([[ 0.75271506,  0.7806769 ,  0.72974107,  0.80914561,  0.86952689,\n",
       "         0.89629714],\n",
       "       [ 0.91014171,  0.76863014,  0.8717572 ,  0.85940954,  0.87792159,\n",
       "         0.90670761],\n",
       "       [ 0.721     ,  0.596     ,  0.704     ,  0.656     ,  0.736     ,\n",
       "         0.73      ],\n",
       "       [ 0.9732385 ,  0.82298107,  0.89437381,  0.99957931,  0.99989488,\n",
       "         0.99989488],\n",
       "       [ 0.75165236,  0.64248739,  0.77203962,  0.67565586,  0.98582683,\n",
       "         0.94988906],\n",
       "       [ 0.92968629,  0.86745803,  0.8944931 ,  0.93148824,  0.93058734,\n",
       "         0.93780288],\n",
       "       [ 0.69205993,  0.84651734,  0.71809177,  0.83711012,  0.87377634,\n",
       "         0.91959136],\n",
       "       [ 0.88326331,  0.92852007,  0.88889823,  0.84862745,  0.89690476,\n",
       "         0.9257423 ],\n",
       "       [ 0.77339371,  0.67968216,  0.75647642,  0.71226931,  0.73557758,\n",
       "         0.74480519]])"
      ]
     },
     "execution_count": 22,
     "metadata": {},
     "output_type": "execute_result"
    }
   ],
   "source": [
    "mean_accs = np.mean(accuracies, axis=2)\n",
    "mean_accs"
   ]
  },
  {
   "cell_type": "code",
   "execution_count": 23,
   "metadata": {
    "collapsed": false
   },
   "outputs": [
    {
     "data": {
      "text/plain": [
       "array([[ 0.75271506,  0.77941886,  0.72974107,  0.80914561,  0.86930618,\n",
       "         0.89609849],\n",
       "       [ 0.91014171,  0.71554558,  0.8717572 ,  0.85940954,  0.87792159,\n",
       "         0.90397733],\n",
       "       [ 0.721     ,  0.651     ,  0.704     ,  0.656     ,  0.735     ,\n",
       "         0.734     ],\n",
       "       [ 0.9732385 ,  0.80246255,  0.89437381,  0.99957931,  0.99989488,\n",
       "         0.99989488],\n",
       "       [ 0.75165236,  0.62777991,  0.77203962,  0.67565586,  0.98582683,\n",
       "         0.94196419],\n",
       "       [ 0.92968629,  0.68698286,  0.8944931 ,  0.93148824,  0.93058734,\n",
       "         0.93959664],\n",
       "       [ 0.69205993,  0.83502634,  0.71809177,  0.83711012,  0.8769123 ,\n",
       "         0.91962358],\n",
       "       [ 0.88326331,  0.92002334,  0.88889823,  0.84862745,  0.89968254,\n",
       "         0.94028011],\n",
       "       [ 0.77339371,  0.65630554,  0.75647642,  0.71226931,  0.72776828,\n",
       "         0.73173274]])"
      ]
     },
     "execution_count": 23,
     "metadata": {},
     "output_type": "execute_result"
    }
   ],
   "source": [
    "mean_f1s = np.mean(f1_scores, axis=2)\n",
    "mean_f1s"
   ]
  },
  {
   "cell_type": "code",
   "execution_count": 24,
   "metadata": {
    "collapsed": false
   },
   "outputs": [
    {
     "data": {
      "text/plain": [
       "array([[  1.69797900e-01,   5.36828940e+00,   1.01191000e-02,\n",
       "          2.77650000e-03,   1.09524600e-01,   4.32821900e-01],\n",
       "       [  6.37086000e-02,   5.03353000e-02,   1.12490000e-03,\n",
       "          5.09300000e-04,   4.10900000e-04,   2.42645000e-02],\n",
       "       [  1.00921000e-02,   4.46393000e-02,   9.19600000e-04,\n",
       "          2.82900000e-04,   2.18010000e-03,   1.88252000e-02],\n",
       "       [  1.99460500e-01,   3.90816100e-01,   4.66970000e-03,\n",
       "          1.20660000e-03,   1.95462000e-02,   1.48100800e-01],\n",
       "       [  4.33880000e-03,   3.84219000e-02,   6.78200000e-04,\n",
       "          2.26900000e-04,   3.75800000e-04,   1.40377000e-02],\n",
       "       [  3.06644000e-02,   3.12113000e-02,   8.52500000e-04,\n",
       "          2.84500000e-04,   3.05600000e-04,   2.04541000e-02],\n",
       "       [  1.41090000e-03,   6.12267000e-01,   7.47700000e-04,\n",
       "          2.78900000e-04,   8.62700000e-04,   1.68143000e-02],\n",
       "       [  1.75250000e-03,   2.87714500e-01,   6.51400000e-04,\n",
       "          2.28200000e-04,   1.60240000e-03,   1.74571000e-02],\n",
       "       [  5.55530000e-03,   8.91353000e-02,   6.87000000e-04,\n",
       "          2.48700000e-04,   1.52640000e-03,   1.81559000e-02]])"
      ]
     },
     "execution_count": 24,
     "metadata": {},
     "output_type": "execute_result"
    }
   ],
   "source": [
    "mean_time = np.mean(build_time, axis=2)\n",
    "mean_time"
   ]
  },
  {
   "cell_type": "code",
   "execution_count": 25,
   "metadata": {
    "collapsed": false
   },
   "outputs": [
    {
     "data": {
      "text/plain": [
       "['LogisticRegression',\n",
       " 'MLPClassifier',\n",
       " 'GaussianNB',\n",
       " 'KNeighborsClassifier',\n",
       " 'DecisionTreeClassifier',\n",
       " 'RandomForestClassifier']"
      ]
     },
     "execution_count": 25,
     "metadata": {},
     "output_type": "execute_result"
    }
   ],
   "source": [
    "#accuracies\n",
    "columns = [str(m).split('(')[0] for m in models]\n",
    "columns"
   ]
  },
  {
   "cell_type": "code",
   "execution_count": 26,
   "metadata": {
    "collapsed": false
   },
   "outputs": [
    {
     "data": {
      "text/html": [
       "<div>\n",
       "<style>\n",
       "    .dataframe thead tr:only-child th {\n",
       "        text-align: right;\n",
       "    }\n",
       "\n",
       "    .dataframe thead th {\n",
       "        text-align: left;\n",
       "    }\n",
       "\n",
       "    .dataframe tbody tr th {\n",
       "        vertical-align: top;\n",
       "    }\n",
       "</style>\n",
       "<table border=\"1\" class=\"dataframe\">\n",
       "  <thead>\n",
       "    <tr style=\"text-align: right;\">\n",
       "      <th></th>\n",
       "      <th>LogisticRegression</th>\n",
       "      <th>MLPClassifier</th>\n",
       "      <th>GaussianNB</th>\n",
       "      <th>KNeighborsClassifier</th>\n",
       "      <th>DecisionTreeClassifier</th>\n",
       "      <th>RandomForestClassifier</th>\n",
       "    </tr>\n",
       "  </thead>\n",
       "  <tbody>\n",
       "    <tr>\n",
       "      <th>0</th>\n",
       "      <td>0.752715</td>\n",
       "      <td>0.780677</td>\n",
       "      <td>0.729741</td>\n",
       "      <td>0.809146</td>\n",
       "      <td>0.869527</td>\n",
       "      <td>0.896297</td>\n",
       "    </tr>\n",
       "    <tr>\n",
       "      <th>1</th>\n",
       "      <td>0.910142</td>\n",
       "      <td>0.768630</td>\n",
       "      <td>0.871757</td>\n",
       "      <td>0.859410</td>\n",
       "      <td>0.877922</td>\n",
       "      <td>0.906708</td>\n",
       "    </tr>\n",
       "    <tr>\n",
       "      <th>2</th>\n",
       "      <td>0.721000</td>\n",
       "      <td>0.596000</td>\n",
       "      <td>0.704000</td>\n",
       "      <td>0.656000</td>\n",
       "      <td>0.736000</td>\n",
       "      <td>0.730000</td>\n",
       "    </tr>\n",
       "    <tr>\n",
       "      <th>3</th>\n",
       "      <td>0.973238</td>\n",
       "      <td>0.822981</td>\n",
       "      <td>0.894374</td>\n",
       "      <td>0.999579</td>\n",
       "      <td>0.999895</td>\n",
       "      <td>0.999895</td>\n",
       "    </tr>\n",
       "    <tr>\n",
       "      <th>4</th>\n",
       "      <td>0.751652</td>\n",
       "      <td>0.642487</td>\n",
       "      <td>0.772040</td>\n",
       "      <td>0.675656</td>\n",
       "      <td>0.985827</td>\n",
       "      <td>0.949889</td>\n",
       "    </tr>\n",
       "    <tr>\n",
       "      <th>5</th>\n",
       "      <td>0.929686</td>\n",
       "      <td>0.867458</td>\n",
       "      <td>0.894493</td>\n",
       "      <td>0.931488</td>\n",
       "      <td>0.930587</td>\n",
       "      <td>0.937803</td>\n",
       "    </tr>\n",
       "    <tr>\n",
       "      <th>6</th>\n",
       "      <td>0.692060</td>\n",
       "      <td>0.846517</td>\n",
       "      <td>0.718092</td>\n",
       "      <td>0.837110</td>\n",
       "      <td>0.873776</td>\n",
       "      <td>0.919591</td>\n",
       "    </tr>\n",
       "    <tr>\n",
       "      <th>7</th>\n",
       "      <td>0.883263</td>\n",
       "      <td>0.928520</td>\n",
       "      <td>0.888898</td>\n",
       "      <td>0.848627</td>\n",
       "      <td>0.896905</td>\n",
       "      <td>0.925742</td>\n",
       "    </tr>\n",
       "    <tr>\n",
       "      <th>8</th>\n",
       "      <td>0.773394</td>\n",
       "      <td>0.679682</td>\n",
       "      <td>0.756476</td>\n",
       "      <td>0.712269</td>\n",
       "      <td>0.735578</td>\n",
       "      <td>0.744805</td>\n",
       "    </tr>\n",
       "  </tbody>\n",
       "</table>\n",
       "</div>"
      ],
      "text/plain": [
       "   LogisticRegression  MLPClassifier  GaussianNB  KNeighborsClassifier  \\\n",
       "0            0.752715       0.780677    0.729741              0.809146   \n",
       "1            0.910142       0.768630    0.871757              0.859410   \n",
       "2            0.721000       0.596000    0.704000              0.656000   \n",
       "3            0.973238       0.822981    0.894374              0.999579   \n",
       "4            0.751652       0.642487    0.772040              0.675656   \n",
       "5            0.929686       0.867458    0.894493              0.931488   \n",
       "6            0.692060       0.846517    0.718092              0.837110   \n",
       "7            0.883263       0.928520    0.888898              0.848627   \n",
       "8            0.773394       0.679682    0.756476              0.712269   \n",
       "\n",
       "   DecisionTreeClassifier  RandomForestClassifier  \n",
       "0                0.869527                0.896297  \n",
       "1                0.877922                0.906708  \n",
       "2                0.736000                0.730000  \n",
       "3                0.999895                0.999895  \n",
       "4                0.985827                0.949889  \n",
       "5                0.930587                0.937803  \n",
       "6                0.873776                0.919591  \n",
       "7                0.896905                0.925742  \n",
       "8                0.735578                0.744805  "
      ]
     },
     "execution_count": 26,
     "metadata": {},
     "output_type": "execute_result"
    }
   ],
   "source": [
    "df = DataFrame(data=mean_accs, columns=columns)\n",
    "df.to_csv('mean_accs')\n",
    "df"
   ]
  },
  {
   "cell_type": "code",
   "execution_count": 27,
   "metadata": {
    "collapsed": false
   },
   "outputs": [
    {
     "data": {
      "text/html": [
       "<div>\n",
       "<style>\n",
       "    .dataframe thead tr:only-child th {\n",
       "        text-align: right;\n",
       "    }\n",
       "\n",
       "    .dataframe thead th {\n",
       "        text-align: left;\n",
       "    }\n",
       "\n",
       "    .dataframe tbody tr th {\n",
       "        vertical-align: top;\n",
       "    }\n",
       "</style>\n",
       "<table border=\"1\" class=\"dataframe\">\n",
       "  <thead>\n",
       "    <tr style=\"text-align: right;\">\n",
       "      <th></th>\n",
       "      <th>LogisticRegression</th>\n",
       "      <th>MLPClassifier</th>\n",
       "      <th>GaussianNB</th>\n",
       "      <th>KNeighborsClassifier</th>\n",
       "      <th>DecisionTreeClassifier</th>\n",
       "      <th>RandomForestClassifier</th>\n",
       "    </tr>\n",
       "  </thead>\n",
       "  <tbody>\n",
       "    <tr>\n",
       "      <th>0</th>\n",
       "      <td>0.752715</td>\n",
       "      <td>0.779419</td>\n",
       "      <td>0.729741</td>\n",
       "      <td>0.809146</td>\n",
       "      <td>0.869306</td>\n",
       "      <td>0.896098</td>\n",
       "    </tr>\n",
       "    <tr>\n",
       "      <th>1</th>\n",
       "      <td>0.910142</td>\n",
       "      <td>0.715546</td>\n",
       "      <td>0.871757</td>\n",
       "      <td>0.859410</td>\n",
       "      <td>0.877922</td>\n",
       "      <td>0.903977</td>\n",
       "    </tr>\n",
       "    <tr>\n",
       "      <th>2</th>\n",
       "      <td>0.721000</td>\n",
       "      <td>0.651000</td>\n",
       "      <td>0.704000</td>\n",
       "      <td>0.656000</td>\n",
       "      <td>0.735000</td>\n",
       "      <td>0.734000</td>\n",
       "    </tr>\n",
       "    <tr>\n",
       "      <th>3</th>\n",
       "      <td>0.973238</td>\n",
       "      <td>0.802463</td>\n",
       "      <td>0.894374</td>\n",
       "      <td>0.999579</td>\n",
       "      <td>0.999895</td>\n",
       "      <td>0.999895</td>\n",
       "    </tr>\n",
       "    <tr>\n",
       "      <th>4</th>\n",
       "      <td>0.751652</td>\n",
       "      <td>0.627780</td>\n",
       "      <td>0.772040</td>\n",
       "      <td>0.675656</td>\n",
       "      <td>0.985827</td>\n",
       "      <td>0.941964</td>\n",
       "    </tr>\n",
       "    <tr>\n",
       "      <th>5</th>\n",
       "      <td>0.929686</td>\n",
       "      <td>0.686983</td>\n",
       "      <td>0.894493</td>\n",
       "      <td>0.931488</td>\n",
       "      <td>0.930587</td>\n",
       "      <td>0.939597</td>\n",
       "    </tr>\n",
       "    <tr>\n",
       "      <th>6</th>\n",
       "      <td>0.692060</td>\n",
       "      <td>0.835026</td>\n",
       "      <td>0.718092</td>\n",
       "      <td>0.837110</td>\n",
       "      <td>0.876912</td>\n",
       "      <td>0.919624</td>\n",
       "    </tr>\n",
       "    <tr>\n",
       "      <th>7</th>\n",
       "      <td>0.883263</td>\n",
       "      <td>0.920023</td>\n",
       "      <td>0.888898</td>\n",
       "      <td>0.848627</td>\n",
       "      <td>0.899683</td>\n",
       "      <td>0.940280</td>\n",
       "    </tr>\n",
       "    <tr>\n",
       "      <th>8</th>\n",
       "      <td>0.773394</td>\n",
       "      <td>0.656306</td>\n",
       "      <td>0.756476</td>\n",
       "      <td>0.712269</td>\n",
       "      <td>0.727768</td>\n",
       "      <td>0.731733</td>\n",
       "    </tr>\n",
       "  </tbody>\n",
       "</table>\n",
       "</div>"
      ],
      "text/plain": [
       "   LogisticRegression  MLPClassifier  GaussianNB  KNeighborsClassifier  \\\n",
       "0            0.752715       0.779419    0.729741              0.809146   \n",
       "1            0.910142       0.715546    0.871757              0.859410   \n",
       "2            0.721000       0.651000    0.704000              0.656000   \n",
       "3            0.973238       0.802463    0.894374              0.999579   \n",
       "4            0.751652       0.627780    0.772040              0.675656   \n",
       "5            0.929686       0.686983    0.894493              0.931488   \n",
       "6            0.692060       0.835026    0.718092              0.837110   \n",
       "7            0.883263       0.920023    0.888898              0.848627   \n",
       "8            0.773394       0.656306    0.756476              0.712269   \n",
       "\n",
       "   DecisionTreeClassifier  RandomForestClassifier  \n",
       "0                0.869306                0.896098  \n",
       "1                0.877922                0.903977  \n",
       "2                0.735000                0.734000  \n",
       "3                0.999895                0.999895  \n",
       "4                0.985827                0.941964  \n",
       "5                0.930587                0.939597  \n",
       "6                0.876912                0.919624  \n",
       "7                0.899683                0.940280  \n",
       "8                0.727768                0.731733  "
      ]
     },
     "execution_count": 27,
     "metadata": {},
     "output_type": "execute_result"
    }
   ],
   "source": [
    "df = DataFrame(data=mean_f1s, columns=columns)\n",
    "df.to_csv('mean_f1s')\n",
    "df"
   ]
  },
  {
   "cell_type": "code",
   "execution_count": 28,
   "metadata": {
    "collapsed": false
   },
   "outputs": [
    {
     "data": {
      "text/html": [
       "<div>\n",
       "<style>\n",
       "    .dataframe thead tr:only-child th {\n",
       "        text-align: right;\n",
       "    }\n",
       "\n",
       "    .dataframe thead th {\n",
       "        text-align: left;\n",
       "    }\n",
       "\n",
       "    .dataframe tbody tr th {\n",
       "        vertical-align: top;\n",
       "    }\n",
       "</style>\n",
       "<table border=\"1\" class=\"dataframe\">\n",
       "  <thead>\n",
       "    <tr style=\"text-align: right;\">\n",
       "      <th></th>\n",
       "      <th>LogisticRegression</th>\n",
       "      <th>MLPClassifier</th>\n",
       "      <th>GaussianNB</th>\n",
       "      <th>KNeighborsClassifier</th>\n",
       "      <th>DecisionTreeClassifier</th>\n",
       "      <th>RandomForestClassifier</th>\n",
       "    </tr>\n",
       "  </thead>\n",
       "  <tbody>\n",
       "    <tr>\n",
       "      <th>0</th>\n",
       "      <td>0.169798</td>\n",
       "      <td>5.368289</td>\n",
       "      <td>0.010119</td>\n",
       "      <td>0.002777</td>\n",
       "      <td>0.109525</td>\n",
       "      <td>0.432822</td>\n",
       "    </tr>\n",
       "    <tr>\n",
       "      <th>1</th>\n",
       "      <td>0.063709</td>\n",
       "      <td>0.050335</td>\n",
       "      <td>0.001125</td>\n",
       "      <td>0.000509</td>\n",
       "      <td>0.000411</td>\n",
       "      <td>0.024265</td>\n",
       "    </tr>\n",
       "    <tr>\n",
       "      <th>2</th>\n",
       "      <td>0.010092</td>\n",
       "      <td>0.044639</td>\n",
       "      <td>0.000920</td>\n",
       "      <td>0.000283</td>\n",
       "      <td>0.002180</td>\n",
       "      <td>0.018825</td>\n",
       "    </tr>\n",
       "    <tr>\n",
       "      <th>3</th>\n",
       "      <td>0.199461</td>\n",
       "      <td>0.390816</td>\n",
       "      <td>0.004670</td>\n",
       "      <td>0.001207</td>\n",
       "      <td>0.019546</td>\n",
       "      <td>0.148101</td>\n",
       "    </tr>\n",
       "    <tr>\n",
       "      <th>4</th>\n",
       "      <td>0.004339</td>\n",
       "      <td>0.038422</td>\n",
       "      <td>0.000678</td>\n",
       "      <td>0.000227</td>\n",
       "      <td>0.000376</td>\n",
       "      <td>0.014038</td>\n",
       "    </tr>\n",
       "    <tr>\n",
       "      <th>5</th>\n",
       "      <td>0.030664</td>\n",
       "      <td>0.031211</td>\n",
       "      <td>0.000852</td>\n",
       "      <td>0.000285</td>\n",
       "      <td>0.000306</td>\n",
       "      <td>0.020454</td>\n",
       "    </tr>\n",
       "    <tr>\n",
       "      <th>6</th>\n",
       "      <td>0.001411</td>\n",
       "      <td>0.612267</td>\n",
       "      <td>0.000748</td>\n",
       "      <td>0.000279</td>\n",
       "      <td>0.000863</td>\n",
       "      <td>0.016814</td>\n",
       "    </tr>\n",
       "    <tr>\n",
       "      <th>7</th>\n",
       "      <td>0.001752</td>\n",
       "      <td>0.287714</td>\n",
       "      <td>0.000651</td>\n",
       "      <td>0.000228</td>\n",
       "      <td>0.001602</td>\n",
       "      <td>0.017457</td>\n",
       "    </tr>\n",
       "    <tr>\n",
       "      <th>8</th>\n",
       "      <td>0.005555</td>\n",
       "      <td>0.089135</td>\n",
       "      <td>0.000687</td>\n",
       "      <td>0.000249</td>\n",
       "      <td>0.001526</td>\n",
       "      <td>0.018156</td>\n",
       "    </tr>\n",
       "  </tbody>\n",
       "</table>\n",
       "</div>"
      ],
      "text/plain": [
       "   LogisticRegression  MLPClassifier  GaussianNB  KNeighborsClassifier  \\\n",
       "0            0.169798       5.368289    0.010119              0.002777   \n",
       "1            0.063709       0.050335    0.001125              0.000509   \n",
       "2            0.010092       0.044639    0.000920              0.000283   \n",
       "3            0.199461       0.390816    0.004670              0.001207   \n",
       "4            0.004339       0.038422    0.000678              0.000227   \n",
       "5            0.030664       0.031211    0.000852              0.000285   \n",
       "6            0.001411       0.612267    0.000748              0.000279   \n",
       "7            0.001752       0.287714    0.000651              0.000228   \n",
       "8            0.005555       0.089135    0.000687              0.000249   \n",
       "\n",
       "   DecisionTreeClassifier  RandomForestClassifier  \n",
       "0                0.109525                0.432822  \n",
       "1                0.000411                0.024265  \n",
       "2                0.002180                0.018825  \n",
       "3                0.019546                0.148101  \n",
       "4                0.000376                0.014038  \n",
       "5                0.000306                0.020454  \n",
       "6                0.000863                0.016814  \n",
       "7                0.001602                0.017457  \n",
       "8                0.001526                0.018156  "
      ]
     },
     "execution_count": 28,
     "metadata": {},
     "output_type": "execute_result"
    }
   ],
   "source": [
    "df = DataFrame(data=mean_time, columns=columns)\n",
    "df.to_csv('mean_time')\n",
    "df"
   ]
  },
  {
   "cell_type": "code",
   "execution_count": null,
   "metadata": {
    "collapsed": true
   },
   "outputs": [],
   "source": []
  }
 ],
 "metadata": {
  "kernelspec": {
   "display_name": "Python 3",
   "language": "python",
   "name": "python3"
  },
  "language_info": {
   "codemirror_mode": {
    "name": "ipython",
    "version": 3
   },
   "file_extension": ".py",
   "mimetype": "text/x-python",
   "name": "python",
   "nbconvert_exporter": "python",
   "pygments_lexer": "ipython3",
   "version": "3.6.0"
  }
 },
 "nbformat": 4,
 "nbformat_minor": 2
}
